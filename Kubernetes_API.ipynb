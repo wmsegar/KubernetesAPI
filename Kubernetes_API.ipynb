{
 "cells": [
  {
   "cell_type": "markdown",
   "metadata": {},
   "source": [
    "## How to Connect to the Kubernetes REST API\n",
    "In this notebook we will explore how to connect to the Kubernetes API using various methods"
   ]
  },
  {
   "cell_type": "code",
   "execution_count": 1,
   "metadata": {},
   "outputs": [],
   "source": [
    "from kubernetes import client, config"
   ]
  },
  {
   "cell_type": "markdown",
   "metadata": {},
   "source": [
    "# Load the config from the default location\n",
    "By default this will attempt to find the Kubernetes config file by first looking at the value of the environment variable $KUBECONFIG and also checking the default location of '~/.kube/config'\n",
    "\n",
    "We will also set the version of the API to the variable v1"
   ]
  },
  {
   "cell_type": "code",
   "execution_count": 3,
   "metadata": {},
   "outputs": [],
   "source": [
    "config.load_kube_config()\n",
    "v1 = client.CoreV1Api()"
   ]
  },
  {
   "cell_type": "markdown",
   "metadata": {},
   "source": [
    "# Get All Pods for All Namespaces\n",
    "The following command will return details for all of our PODs running in all namespaces"
   ]
  },
  {
   "cell_type": "code",
   "execution_count": 12,
   "metadata": {},
   "outputs": [
    {
     "name": "stdout",
     "output_type": "stream",
     "text": [
      "\thelloworld-nginx\n",
      "\twordpress-deployment-55c58c7d57-7b4p8\n",
      "\tetcd-rocky\n",
      "\tkube-apiserver-rocky\n",
      "\tkube-controller-manager-rocky\n",
      "\tkube-dns-6f4fd4bdf-dlh7w\n",
      "\tkube-flannel-ds-dzldn\n",
      "\tkube-proxy-9n4m9\n",
      "\tkube-scheduler-rocky\n",
      "\tkubernetes-dashboard-5bd6f767c7-tn2t8\n"
     ]
    }
   ],
   "source": [
    "ret = v1.list_pod_for_all_namespaces(watch=False)\n",
    "\n",
    "for i in ret.items:\n",
    "    print(\"\\t%s\" % (i.metadata.name))"
   ]
  },
  {
   "cell_type": "code",
   "execution_count": null,
   "metadata": {},
   "outputs": [],
   "source": []
  }
 ],
 "metadata": {
  "kernelspec": {
   "display_name": "Python 3",
   "language": "python",
   "name": "python3"
  },
  "language_info": {
   "codemirror_mode": {
    "name": "ipython",
    "version": 3
   },
   "file_extension": ".py",
   "mimetype": "text/x-python",
   "name": "python",
   "nbconvert_exporter": "python",
   "pygments_lexer": "ipython3",
   "version": "3.5.2"
  }
 },
 "nbformat": 4,
 "nbformat_minor": 2
}
